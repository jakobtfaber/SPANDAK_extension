{
 "cells": [
  {
   "cell_type": "code",
   "execution_count": 5,
   "metadata": {},
   "outputs": [],
   "source": [
    "import numpy as np\n",
    "import matplotlib.pyplot as plt\n",
    "import sys\n",
    "import os\n",
    "sys.path.insert(0, os.path.abspath('../extractor'))\n",
    "#import extract_blocks.py\n",
    "import pandas as pd"
   ]
  },
  {
   "cell_type": "code",
   "execution_count": 143,
   "metadata": {
    "scrolled": false
   },
   "outputs": [
    {
     "name": "stdout",
     "output_type": "stream",
     "text": [
      "[519.3438986666699, 513.73779733333, 304.98259466666997, 1703.15379733333, 1189.33189866667, 82.72459466666999, 742.3709493333331, 61.46279733333, 550.72559466667, 323.27279733333]\n",
      "[522.14010133333, 519.33020266667, 316.16740533333, 1708.7462026666701, 1192.12810133333, 93.90940533333, 743.769050666667, 67.05520266667, 561.91040533333, 328.86520266667003]\n"
     ]
    }
   ],
   "source": [
    "#Read in .csv produced by SPANDAK (on FRB121102 as an example)\n",
    "cands = pd.read_csv(\"test_pipeline.csv\")\n",
    "#print(cands)\n",
    "\n",
    "#Isolate B-valued candidates (probable without ML)\n",
    "B_vals = cands[cands.iloc[:, :]['Category']=='B'].index.values\n",
    "#print(B_vals)\n",
    "\n",
    "#Find time constraints\n",
    "\n",
    "#Widths\n",
    "time_widths = [[i for i in cands.loc[:, :]['WIDTH']][k] for k in B_vals]\n",
    "#print(time_widths)\n",
    "\n",
    "#Centers\n",
    "parse_center = [[i for i in [j.split('_') for j in cands.iloc[:, :]['PNGFILE']]][k][2] for k in B_vals]\n",
    "time_stamps = [np.float(m[:-3]) for m in parse_center]\n",
    "#print(time_stamps)\n",
    "\n",
    "#Limits\n",
    "start_times = [time_stamps[i]-time_widths[i] for i in np.arange(len(B_vals))]\n",
    "print(start_times)\n",
    "end_times = [time_stamps[i]+time_widths[i] for i in np.arange(len(B_vals))]\n",
    "print(end_times)\n"
   ]
  },
  {
   "cell_type": "code",
   "execution_count": 144,
   "metadata": {},
   "outputs": [],
   "source": [
    "#Extract .raw files using extractor python package \n",
    "    #NOTE: filetag is the repeting part of the file name\n",
    "def extract_blocks(filepath, filetag, ):\n",
    "    !python ../extractor/extract_blocks.py input()\n",
    "    !\n",
    "        "
   ]
  },
  {
   "cell_type": "code",
   "execution_count": null,
   "metadata": {},
   "outputs": [],
   "source": [
    "#Fold to get header info\n",
    "for i in \n",
    "    !fold "
   ]
  },
  {
   "cell_type": "code",
   "execution_count": 19,
   "metadata": {},
   "outputs": [
    {
     "name": "stdout",
     "output_type": "stream",
     "text": [
      "function call:\n",
      "  [1] path to files\n",
      "  [2] repeating part in file names\n",
      "  [3] starting time in s\n",
      "  [4] stopping time in s\n",
      "  [5] path to extract the data to\n"
     ]
    }
   ],
   "source": [
    "#Splice with in preparation for coherent dedispersion\n",
    "def splice():    \n",
    "    !python ../extractor/splicer.py"
   ]
  },
  {
   "cell_type": "code",
   "execution_count": 20,
   "metadata": {},
   "outputs": [
    {
     "name": "stdout",
     "output_type": "stream",
     "text": [
      "function call:\r\n",
      "  [1] path to files\r\n",
      "  [2] repeating part in file names\r\n",
      "  [3] starting time in s\r\n",
      "  [4] stopping time in s\r\n",
      "  [5] path to extract the data to\r\n"
     ]
    }
   ],
   "source": []
  },
  {
   "cell_type": "code",
   "execution_count": null,
   "metadata": {},
   "outputs": [],
   "source": []
  }
 ],
 "metadata": {
  "kernelspec": {
   "display_name": "Python 2",
   "language": "python",
   "name": "python2"
  },
  "language_info": {
   "codemirror_mode": {
    "name": "ipython",
    "version": 2
   },
   "file_extension": ".py",
   "mimetype": "text/x-python",
   "name": "python",
   "nbconvert_exporter": "python",
   "pygments_lexer": "ipython2",
   "version": "2.7.12"
  }
 },
 "nbformat": 4,
 "nbformat_minor": 2
}
