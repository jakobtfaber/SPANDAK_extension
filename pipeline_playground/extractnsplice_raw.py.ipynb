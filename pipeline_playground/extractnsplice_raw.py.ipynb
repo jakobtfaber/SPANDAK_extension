{
 "cells": [
  {
   "cell_type": "code",
   "execution_count": 179,
   "metadata": {},
   "outputs": [
    {
     "ename": "ImportError",
     "evalue": "No module named dspsr",
     "output_type": "error",
     "traceback": [
      "\u001b[0;31m---------------------------------------------------------------------------\u001b[0m",
      "\u001b[0;31mImportError\u001b[0m                               Traceback (most recent call last)",
      "\u001b[0;32m<ipython-input-179-f5a5e2f092e5>\u001b[0m in \u001b[0;36m<module>\u001b[0;34m()\u001b[0m\n\u001b[1;32m      6\u001b[0m \u001b[0;31m#import extract_blocks.py\u001b[0m\u001b[0;34m\u001b[0m\u001b[0;34m\u001b[0m\u001b[0m\n\u001b[1;32m      7\u001b[0m \u001b[0;32mimport\u001b[0m \u001b[0mpandas\u001b[0m \u001b[0;32mas\u001b[0m \u001b[0mpd\u001b[0m\u001b[0;34m\u001b[0m\u001b[0m\n\u001b[0;32m----> 8\u001b[0;31m \u001b[0;32mimport\u001b[0m \u001b[0mdspsr\u001b[0m\u001b[0;34m\u001b[0m\u001b[0m\n\u001b[0m",
      "\u001b[0;31mImportError\u001b[0m: No module named dspsr"
     ]
    }
   ],
   "source": [
    "import numpy as np\n",
    "import matplotlib.pyplot as plt\n",
    "import sys\n",
    "import os\n",
    "sys.path.insert(0, os.path.abspath('../extractor'))\n",
    "#import extract_blocks.py\n",
    "import pandas as pd"
   ]
  },
  {
   "cell_type": "code",
   "execution_count": null,
   "metadata": {},
   "outputs": [],
   "source": [
    "!"
   ]
  },
  {
   "cell_type": "code",
   "execution_count": 150,
   "metadata": {
    "scrolled": false
   },
   "outputs": [
    {
     "name": "stdout",
     "output_type": "stream",
     "text": [
      "                             PNGFILE Category Prob  T-test  T-test_prob  \\\n",
      "0    C_0011_625.976sec_DM1541.27.png        C    *    1.94        93.86   \n",
      "1     B_0012_520.742sec_DM352.11.png        B    *    5.15       100.00   \n",
      "2     B_0008_516.534sec_DM715.08.png        B    *    6.80       100.00   \n",
      "3    B_0018_310.575sec_DM1344.34.png        B    *    5.58       100.00   \n",
      "4   B_0015_1705.950sec_DM1052.83.png        B    *    3.59        99.88   \n",
      "5      0013_197.656sec_DM1910.68.png     0013    *    1.52        85.98   \n",
      "6         0010_4.737sec_DM725.61.png     0010    *    4.38        99.99   \n",
      "7    C_0009_286.095sec_DM1466.67.png        C    *    2.44        97.94   \n",
      "8      0003_1317.250sec_DM915.46.png     0003    *    2.18        96.24   \n",
      "9    B_0006_1190.730sec_DM142.01.png        B    *    3.09        99.57   \n",
      "10     0002_1526.390sec_DM588.72.png     0002    *   -0.98        66.56   \n",
      "11    C_0001_104.922sec_DM578.19.png        C    *    2.88        99.27   \n",
      "12    B_0014_88.317sec_DM1450.70.png        B    *    5.01       100.00   \n",
      "13    B_0000_743.070sec_DM609.77.png        B    *    4.00        99.98   \n",
      "14    0019_1502.610sec_DM1317.79.png     0019    *    0.86        60.47   \n",
      "15     B_0016_64.259sec_DM746.69.png        B    *    4.22        99.98   \n",
      "16    B_0004_556.318sec_DM331.09.png        B    *    5.71       100.00   \n",
      "17    C_0007_321.996sec_DM704.54.png        C    *    2.33        97.35   \n",
      "18     0017_1225.190sec_DM709.81.png     0017    *    6.44       100.00   \n",
      "19      0005_15.033sec_DM1079.28.png     0005    *    1.83        92.26   \n",
      "20     C_0023_4.707sec_DM1386.86.png        C    *    2.58        98.51   \n",
      "21   B_0021_326.069sec_DM1808.65.png        B    *    3.61        99.89   \n",
      "22      0020_520.711sec_DM825.76.png     0020    *    2.16        96.14   \n",
      "23    0022_1043.220sec_DM1222.28.png     0022    *    1.96        94.09   \n",
      "\n",
      "         SNR     WIDTH        DM      SourceName         RA        DEC  \\\n",
      "0    6.51169  2.796203  1541.270  DIAG_FRB121102  53158.632  330852.44   \n",
      "1    6.46316  1.398101   352.109  DIAG_FRB121102  53158.632  330852.44   \n",
      "2    6.92985  2.796203   715.075  DIAG_FRB121102  53158.632  330852.44   \n",
      "3    6.32322  5.592405  1344.340  DIAG_FRB121102  53158.632  330852.44   \n",
      "4    6.36516  2.796203  1052.830  DIAG_FRB121102  53158.632  330852.44   \n",
      "5    6.42597  2.796203  1910.680  DIAG_FRB121102  53158.632  330852.44   \n",
      "6    6.82020  2.796203   725.611  DIAG_FRB121102  53158.632  330852.44   \n",
      "7    6.84160  0.699051  1466.670  DIAG_FRB121102  53158.632  330852.44   \n",
      "8    7.17403  1.398101   915.458  DIAG_FRB121102  53158.632  330852.44   \n",
      "9    7.09331  1.398101   142.007  DIAG_FRB121102  53158.632  330852.44   \n",
      "10  10.94330  0.699051   588.718  DIAG_FRB121102  53158.632  330852.44   \n",
      "11  14.00490  0.699051   578.194  DIAG_FRB121102  53158.632  330852.44   \n",
      "12   6.41313  5.592405  1450.700  DIAG_FRB121102  53158.632  330852.44   \n",
      "13  21.63300  0.699051   609.768  DIAG_FRB121102  53158.632  330852.44   \n",
      "14   6.32233  1.398101  1317.790  DIAG_FRB121102  53158.632  330852.44   \n",
      "15   6.33459  2.796203   746.686  DIAG_FRB121102  53158.632  330852.44   \n",
      "16   7.16885  5.592405   331.092  DIAG_FRB121102  53158.632  330852.44   \n",
      "17   7.03626  1.398101   704.540  DIAG_FRB121102  53158.632  330852.44   \n",
      "18   6.32871  5.592405   709.807  DIAG_FRB121102  53158.632  330852.44   \n",
      "19   7.13640  2.796203  1079.280  DIAG_FRB121102  53158.632  330852.44   \n",
      "20   6.07885  2.796203  1386.860  DIAG_FRB121102  53158.632  330852.44   \n",
      "21   6.13341  2.796203  1808.650  DIAG_FRB121102  53158.632  330852.44   \n",
      "22   6.21221  1.398101   825.759  DIAG_FRB121102  53158.632  330852.44   \n",
      "23   6.13174  1.398101  1222.280  DIAG_FRB121102  53158.632  330852.44   \n",
      "\n",
      "             MJD        Hfreq  NCHANS  BANDWIDTH  \\\n",
      "0   57991.598646  9313.781738    3712    -5437.5   \n",
      "1   57991.598646  9313.781738    3712    -5437.5   \n",
      "2   57991.598646  9313.781738    3712    -5437.5   \n",
      "3   57991.598646  9313.781738    3712    -5437.5   \n",
      "4   57991.598646  9313.781738    3712    -5437.5   \n",
      "5   57991.598646  9313.781738    3712    -5437.5   \n",
      "6   57991.598646  9313.781738    3712    -5437.5   \n",
      "7   57991.598646  9313.781738    3712    -5437.5   \n",
      "8   57991.598646  9313.781738    3712    -5437.5   \n",
      "9   57991.598646  9313.781738    3712    -5437.5   \n",
      "10  57991.598646  9313.781738    3712    -5437.5   \n",
      "11  57991.598646  9313.781738    3712    -5437.5   \n",
      "12  57991.598646  9313.781738    3712    -5437.5   \n",
      "13  57991.598646  9313.781738    3712    -5437.5   \n",
      "14  57991.598646  9313.781738    3712    -5437.5   \n",
      "15  57991.598646  9313.781738    3712    -5437.5   \n",
      "16  57991.598646  9313.781738    3712    -5437.5   \n",
      "17  57991.598646  9313.781738    3712    -5437.5   \n",
      "18  57991.598646  9313.781738    3712    -5437.5   \n",
      "19  57991.598646  9313.781738    3712    -5437.5   \n",
      "20  57991.598646  9313.781738    3712    -5437.5   \n",
      "21  57991.598646  9313.781738    3712    -5437.5   \n",
      "22  57991.598646  9313.781738    3712    -5437.5   \n",
      "23  57991.598646  9313.781738    3712    -5437.5   \n",
      "\n",
      "                                             filename  \n",
      "0   /mnt_blpd9/datax/incoming/spliced_guppi_57991_...  \n",
      "1   /mnt_blpd9/datax/incoming/spliced_guppi_57991_...  \n",
      "2   /mnt_blpd9/datax/incoming/spliced_guppi_57991_...  \n",
      "3   /mnt_blpd9/datax/incoming/spliced_guppi_57991_...  \n",
      "4   /mnt_blpd9/datax/incoming/spliced_guppi_57991_...  \n",
      "5   /mnt_blpd9/datax/incoming/spliced_guppi_57991_...  \n",
      "6   /mnt_blpd9/datax/incoming/spliced_guppi_57991_...  \n",
      "7   /mnt_blpd9/datax/incoming/spliced_guppi_57991_...  \n",
      "8   /mnt_blpd9/datax/incoming/spliced_guppi_57991_...  \n",
      "9   /mnt_blpd9/datax/incoming/spliced_guppi_57991_...  \n",
      "10  /mnt_blpd9/datax/incoming/spliced_guppi_57991_...  \n",
      "11  /mnt_blpd9/datax/incoming/spliced_guppi_57991_...  \n",
      "12  /mnt_blpd9/datax/incoming/spliced_guppi_57991_...  \n",
      "13  /mnt_blpd9/datax/incoming/spliced_guppi_57991_...  \n",
      "14  /mnt_blpd9/datax/incoming/spliced_guppi_57991_...  \n",
      "15  /mnt_blpd9/datax/incoming/spliced_guppi_57991_...  \n",
      "16  /mnt_blpd9/datax/incoming/spliced_guppi_57991_...  \n",
      "17  /mnt_blpd9/datax/incoming/spliced_guppi_57991_...  \n",
      "18  /mnt_blpd9/datax/incoming/spliced_guppi_57991_...  \n",
      "19  /mnt_blpd9/datax/incoming/spliced_guppi_57991_...  \n",
      "20  /mnt_blpd9/datax/incoming/spliced_guppi_57991_...  \n",
      "21  /mnt_blpd9/datax/incoming/spliced_guppi_57991_...  \n",
      "22  /mnt_blpd9/datax/incoming/spliced_guppi_57991_...  \n",
      "23  /mnt_blpd9/datax/incoming/spliced_guppi_57991_...  \n",
      "[519.3438986666699, 513.73779733333, 304.98259466666997, 1703.15379733333, 1189.33189866667, 82.72459466666999, 742.3709493333331, 61.46279733333, 550.72559466667, 323.27279733333]\n",
      "[522.14010133333, 519.33020266667, 316.16740533333, 1708.7462026666701, 1192.12810133333, 93.90940533333, 743.769050666667, 67.05520266667, 561.91040533333, 328.86520266667003]\n"
     ]
    }
   ],
   "source": [
    "#Read in .csv produced by SPANDAK (on FRB121102 as an example)\n",
    "cands = pd.read_csv(\"test_pipeline.csv\")\n",
    "print(cands)\n",
    "\n",
    "#Isolate B-valued candidates (probable without ML)\n",
    "B_vals = cands[cands.iloc[:, :]['Category']=='B'].index.values\n",
    "#print(B_vals)\n",
    "\n",
    "#Find time constraints\n",
    "\n",
    "#Widths\n",
    "time_widths = [[i for i in cands.loc[:, :]['WIDTH']][k] for k in B_vals]\n",
    "#print(time_widths)\n",
    "\n",
    "#Centers\n",
    "parse_center = [[i for i in [j.split('_') for j in cands.iloc[:, :]['PNGFILE']]][k][2] for k in B_vals]\n",
    "time_stamps = [np.float(m[:-3]) for m in parse_center]\n",
    "#print(time_stamps)\n",
    "\n",
    "#Limits\n",
    "start_times = [time_stamps[i]-time_widths[i] for i in np.arange(len(B_vals))]\n",
    "print(start_times)\n",
    "end_times = [time_stamps[i]+time_widths[i] for i in np.arange(len(B_vals))]\n",
    "print(end_times)\n"
   ]
  },
  {
   "cell_type": "code",
   "execution_count": 172,
   "metadata": {},
   "outputs": [
    {
     "name": "stdout",
     "output_type": "stream",
     "text": [
      "python: can't open file 'command': [Errno 2] No such file or directory\r\n"
     ]
    }
   ],
   "source": [
    "#/mnt_blpd9/datax/incoming/spliced_guppi_57991_49905_DIAG_FRB121102_0011\n",
    "\n",
    "#rawpath = input('Path to .raw: ')\n",
    "#filetag = input('Repeating file name: ')\n",
    "#start = input('Burst start time: ')\n",
    "#end = input('Burst end time: ')\n",
    "#outputpath = input('Path for output: ')\n",
    "rawpath = '/mnt_blpd5/datax/FRB121102/BLP10'\n",
    "filetag = 'blc10_guppi_57991_51723_DIAG_FRB121102_0012'\n",
    "start = 519.3438986666699\n",
    "end = 522.14010133333\n",
    "outputpath = '/datax/scratch/jfaber/SPANDAK_extension/pipeline_playground/'\n",
    "command = \"../extractor/extract_blocks.py {} {} {} {} {}\".format(rawpath, filetag, start, end, outputpath)"
   ]
  },
  {
   "cell_type": "code",
   "execution_count": 169,
   "metadata": {},
   "outputs": [
    {
     "name": "stdout",
     "output_type": "stream",
     "text": [
      "Traceback (most recent call last):\r\n",
      "  File \"../extractor/extract_blocks.py\", line 17, in <module>\r\n",
      "    os.chdir(sys.argv[1])\r\n",
      "OSError: [Errno 2] No such file or directory: 'rawpath'\r\n"
     ]
    }
   ],
   "source": [
    "#Extract .raw files using extractor python package \n",
    "    #NOTE: filetag is the repeting part of the file name\n",
    "\n",
    "#!python ../extractor/extract_blocks.py + '' + rawpath + '' + filetag + '' + start + '' + end + '' + outputpath\n",
    "#!python ../extractor/extract_blocks.py /mnt_blpd5/datax/FRB121102/BLP10 blc10_guppi_57991_51723_DIAG_FRB121102_0012 519.3438986666699 522.14010133333 /datax/scratch/jfaber/SPANDAK_extension/pipeline_playground/\n",
    "\n",
    "\n"
   ]
  },
  {
   "cell_type": "markdown",
   "metadata": {},
   "source": [
    "#Fold to get header info\n",
    "!fold -w 80 blc10_guppi_57991_51723_DIAG_FRB121102_0012_519.3438986666699_522.14010133333.raw | more"
   ]
  },
  {
   "cell_type": "code",
   "execution_count": null,
   "metadata": {},
   "outputs": [
    {
     "name": "stdout",
     "output_type": "stream",
     "text": [
      "there are 6 files in the data set\r\n"
     ]
    }
   ],
   "source": [
    "#Splice with in preparation for coherent dedispersion\n",
    "!python ../extractor/splicer_raw.py ../pipeline_playground/ spliced_guppi"
   ]
  },
  {
   "cell_type": "code",
   "execution_count": 20,
   "metadata": {},
   "outputs": [
    {
     "name": "stdout",
     "output_type": "stream",
     "text": [
      "function call:\r\n",
      "  [1] path to files\r\n",
      "  [2] repeating part in file names\r\n",
      "  [3] starting time in s\r\n",
      "  [4] stopping time in s\r\n",
      "  [5] path to extract the data to\r\n"
     ]
    }
   ],
   "source": []
  },
  {
   "cell_type": "code",
   "execution_count": null,
   "metadata": {},
   "outputs": [],
   "source": []
  }
 ],
 "metadata": {
  "kernelspec": {
   "display_name": "Python 2",
   "language": "python",
   "name": "python2"
  },
  "language_info": {
   "codemirror_mode": {
    "name": "ipython",
    "version": 2
   },
   "file_extension": ".py",
   "mimetype": "text/x-python",
   "name": "python",
   "nbconvert_exporter": "python",
   "pygments_lexer": "ipython2",
   "version": "2.7.12"
  }
 },
 "nbformat": 4,
 "nbformat_minor": 2
}
