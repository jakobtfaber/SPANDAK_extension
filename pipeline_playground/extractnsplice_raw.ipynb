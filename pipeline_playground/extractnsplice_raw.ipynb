{
 "cells": [
  {
   "cell_type": "code",
   "execution_count": null,
   "metadata": {},
   "outputs": [],
   "source": [
    "import numpy as np\n",
    "import matplotlib.pyplot as plt\n",
    "import sys\n",
    "import os\n",
    "sys.path.insert(0, os.path.abspath('../extractor'))\n",
    "#import extract_blocks.py\n",
    "import pandas as pd"
   ]
  },
  {
   "cell_type": "code",
   "execution_count": null,
   "metadata": {},
   "outputs": [],
   "source": [
    "!"
   ]
  },
  {
   "cell_type": "code",
   "execution_count": null,
   "metadata": {},
   "outputs": [],
   "source": [
    "#Read in .csv produced by SPANDAK (on FRB121102 as an example)\n",
    "cands = pd.read_csv(\"test_pipeline.csv\")\n",
    "print(cands)\n",
    "\n",
    "#Isolate B-valued candidates (probable without ML)\n",
    "B_vals = cands[cands.iloc[:, :]['Category']=='B'].index.values\n",
    "#print(B_vals)\n",
    "\n",
    "#Find time constraints\n",
    "\n",
    "#Widths\n",
    "time_widths = [[i for i in cands.loc[:, :]['WIDTH']][k] for k in B_vals]\n",
    "#print(time_widths)\n",
    "\n",
    "#Centers\n",
    "parse_center = [[i for i in [j.split('_') for j in cands.iloc[:, :]['PNGFILE']]][k][2] for k in B_vals]\n",
    "time_stamps = [np.float(m[:-3]) for m in parse_center]\n",
    "#print(time_stamps)\n",
    "\n",
    "#Limits\n",
    "start_times = [time_stamps[i]-time_widths[i] for i in np.arange(len(B_vals))]\n",
    "print(start_times)\n",
    "end_times = [time_stamps[i]+time_widths[i] for i in np.arange(len(B_vals))]\n",
    "print(end_times)\n"
   ]
  },
  {
   "cell_type": "code",
   "execution_count": null,
   "metadata": {},
   "outputs": [],
   "source": [
    "#/mnt_blpd9/datax/incoming/spliced_guppi_57991_49905_DIAG_FRB121102_0011\n",
    "\n",
    "#rawpath = input('Path to .raw: ')\n",
    "#filetag = input('Repeating file name: ')\n",
    "#start = input('Burst start time: ')\n",
    "#end = input('Burst end time: ')\n",
    "#outputpath = input('Path for output: ')\n",
    "rawpath = '/mnt_blpd5/datax/FRB121102/BLP10'\n",
    "filetag = 'blc10_guppi_57991_51723_DIAG_FRB121102_0012'\n",
    "start = 519.3438986666699\n",
    "end = 522.14010133333\n",
    "outputpath = '/datax/scratch/jfaber/SPANDAK_extension/pipeline_playground/'\n",
    "command = \"../extractor/extract_blocks.py {} {} {} {} {}\".format(rawpath, filetag, start, end, outputpath)"
   ]
  },
  {
   "cell_type": "code",
   "execution_count": null,
   "metadata": {},
   "outputs": [],
   "source": [
    "#Extract .raw files using extractor python package \n",
    "    #NOTE: filetag is the repeting part of the file name\n",
    "\n",
    "#!python ../extractor/extract_blocks.py + '' + rawpath + '' + filetag + '' + start + '' + end + '' + outputpath\n",
    "#!python ../extractor/extract_blocks.py /mnt_blpd5/datax/FRB121102/BLP10 blc10_guppi_57991_51723_DIAG_FRB121102_0012 519.3438986666699 522.14010133333 /datax/scratch/jfaber/SPANDAK_extension/pipeline_playground/\n",
    "\n",
    "\n"
   ]
  },
  {
   "cell_type": "markdown",
   "metadata": {},
   "source": [
    "#Fold to get header info\n",
    "!fold -w 80 blc10_guppi_57991_51723_DIAG_FRB121102_0012_519.3438986666699_522.14010133333.raw | more"
   ]
  },
  {
   "cell_type": "code",
   "execution_count": null,
   "metadata": {},
   "outputs": [],
   "source": [
    "#Splice with in preparation for coherent dedispersion\n",
    "!python ../extractor/splicer_raw.py ../pipeline_playground/ spliced_guppi"
   ]
  },
  {
   "cell_type": "code",
   "execution_count": null,
   "metadata": {},
   "outputs": [],
   "source": []
  },
  {
   "cell_type": "code",
   "execution_count": null,
   "metadata": {},
   "outputs": [],
   "source": []
  }
 ],
 "metadata": {
  "kernelspec": {
   "display_name": "Python 2",
   "language": "python",
   "name": "python2"
  },
  "language_info": {
   "codemirror_mode": {
    "name": "ipython",
    "version": 2
   },
   "file_extension": ".py",
   "mimetype": "text/x-python",
   "name": "python",
   "nbconvert_exporter": "python",
   "pygments_lexer": "ipython2",
   "version": "2.7.12"
  }
 },
 "nbformat": 4,
 "nbformat_minor": 2
}
